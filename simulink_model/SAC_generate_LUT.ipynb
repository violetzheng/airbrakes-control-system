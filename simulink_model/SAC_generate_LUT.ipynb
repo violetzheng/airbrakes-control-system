{
 "cells": [
  {
   "cell_type": "code",
   "execution_count": 37,
   "id": "086caad3-dc48-4001-b50a-9536f50b797c",
   "metadata": {},
   "outputs": [],
   "source": [
    "import numpy as np\n",
    "import matlab.engine\n",
    "import math\n",
    "import csv\n",
    "\n",
    "mle = matlab.engine.start_matlab('-desktop')"
   ]
  },
  {
   "cell_type": "code",
   "execution_count": 38,
   "id": "f5f4dab7-59f4-4b63-b060-c7ccd9f2001f",
   "metadata": {},
   "outputs": [],
   "source": [
    "STOP_TIME = 45\n",
    "START_TIME = 5"
   ]
  },
  {
   "cell_type": "code",
   "execution_count": 39,
   "id": "649373e3-32cf-42fb-91a1-6df112a078f2",
   "metadata": {},
   "outputs": [],
   "source": [
    "def getApogee(result_matlab):\n",
    "    velocity_data = result_matlab['velocity']['Data']\n",
    "    velocity_time = result_matlab['velocity']['Time']\n",
    "    height_data = result_matlab['height']['Data']\n",
    "    height_time = result_matlab['height']['Time']\n",
    "\n",
    "    #find time when apogee hit\n",
    "    apogee_index = -1\n",
    "    for i in range(0,len(velocity_data)):\n",
    "        if (velocity_data[i][0]<=0 and i>1):\n",
    "            apogee_index = i\n",
    "            break\n",
    "\n",
    "    if (apogee_index != -1):\n",
    "        #find time when apogee hit\n",
    "        apogee_time = velocity_time[apogee_index][0]\n",
    "        return height_data[apogee_index][0]\n",
    "    else:\n",
    "        return -1 #INVALID APOGEE\n",
    "    "
   ]
  },
  {
   "cell_type": "code",
   "execution_count": 43,
   "id": "140280a9-6fb7-4ece-ac0b-8f5ec2153f79",
   "metadata": {},
   "outputs": [],
   "source": [
    "def get_extension(curr_vel, curr_alt,target, temperature):\n",
    "    #find apogee when no extension yet\n",
    "    params = {\n",
    "        'current_height': curr_alt,\n",
    "        'current_vel':curr_vel,\n",
    "        'current_pitch':0.0,\n",
    "        'extension_length':0.0,\n",
    "        'temperature': temperature  # (in K)\n",
    "    }\n",
    "\n",
    "    #0% extension\n",
    "    result = mle.sim_the_model('Stoptime',STOP_TIME,\"StartTime\", START_TIME,'TunableParameters',params)\n",
    "    curr_apog = getApogee(result)\n",
    "    \n",
    "    #already undershooting\n",
    "    if curr_apog<target:\n",
    "        return 0\n",
    "    else:\n",
    "        return 100\n"
   ]
  },
  {
   "cell_type": "code",
   "execution_count": 42,
   "id": "efce11d4-62f0-4c0b-96b7-eb5a4f884c76",
   "metadata": {},
   "outputs": [
    {
     "name": "stdout",
     "output_type": "stream",
     "text": [
      "9195.916298794205\n"
     ]
    },
    {
     "data": {
      "text/plain": [
       "100"
      ]
     },
     "execution_count": 42,
     "metadata": {},
     "output_type": "execute_result"
    }
   ],
   "source": [
    "get_extension(260.0,6065.0, 9140.444986, 298.15)"
   ]
  },
  {
   "cell_type": "code",
   "execution_count": 44,
   "id": "dcc27f73-a0bd-471a-ae51-a86541876aaf",
   "metadata": {},
   "outputs": [],
   "source": [
    "LUT = [[0,0]]*261"
   ]
  },
  {
   "cell_type": "code",
   "execution_count": 45,
   "id": "c77985d9-4e90-44b6-bc64-1c82521eefc7",
   "metadata": {},
   "outputs": [],
   "source": [
    "STARTING_HEIGHT = 5500.0\n",
    "\n",
    "def generate_LUT_temp_apog(target_apogee, surface_temp):\n",
    "    prev_height = STARTING_HEIGHT\n",
    "    \n",
    "    for i in range(260, -1, -1):\n",
    "        height = prev_height\n",
    "        \n",
    "        if (height>=target_apogee):\n",
    "            LUT[i] = [i, target_apogee]\n",
    "        \n",
    "        while (height<target_apogee):     \n",
    "            curr_extension = get_extension(float(i), float(height), target_apogee, surface_temp)\n",
    "\n",
    "            if (curr_extension==100):\n",
    "                prev_height = height\n",
    "                LUT[i] = [i, height]\n",
    "                break\n",
    "\n",
    "            height += 10.0 \n",
    "            \n",
    "        print(\"running velocity: \" + str(i) + \" result height is: \"+ str(height))\n",
    "\n",
    "    for i in range(0,261):\n",
    "        if (LUT[i][1] == 0 or LUT[i][1]>=target_apogee):\n",
    "            LUT[i]= [i, target_apogee]\n",
    "    \n",
    "    path = \"./SAC_LUT/LUT_\"+ str(target_apogee)+\"_\"+str(surface_temp) + \".csv\"\n",
    "    with open(path,\"w+\") as my_csv:\n",
    "        csvWriter = csv.writer(my_csv,delimiter=',')\n",
    "        csvWriter.writerows(LUT)"
   ]
  },
  {
   "cell_type": "code",
   "execution_count": 46,
   "id": "5b12f4ad-d3e7-4730-9ad3-8031ac5bb591",
   "metadata": {},
   "outputs": [
    {
     "name": "stdout",
     "output_type": "stream",
     "text": [
      "running velocity: 260 result height is: 6020.0\n",
      "running velocity: 259 result height is: 6040.0\n",
      "running velocity: 258 result height is: 6060.0\n",
      "running velocity: 257 result height is: 6080.0\n",
      "running velocity: 256 result height is: 6100.0\n",
      "running velocity: 255 result height is: 6130.0\n",
      "running velocity: 254 result height is: 6150.0\n",
      "running velocity: 253 result height is: 6170.0\n",
      "running velocity: 252 result height is: 6190.0\n",
      "running velocity: 251 result height is: 6210.0\n",
      "running velocity: 250 result height is: 6230.0\n",
      "running velocity: 249 result height is: 6250.0\n",
      "running velocity: 248 result height is: 6270.0\n",
      "running velocity: 247 result height is: 6300.0\n",
      "running velocity: 246 result height is: 6320.0\n",
      "running velocity: 245 result height is: 6340.0\n",
      "running velocity: 244 result height is: 6360.0\n",
      "running velocity: 243 result height is: 6380.0\n",
      "running velocity: 242 result height is: 6400.0\n",
      "running velocity: 241 result height is: 6420.0\n",
      "running velocity: 240 result height is: 6440.0\n",
      "running velocity: 239 result height is: 6460.0\n",
      "running velocity: 238 result height is: 6480.0\n",
      "running velocity: 237 result height is: 6500.0\n",
      "running velocity: 236 result height is: 6520.0\n",
      "running velocity: 235 result height is: 6540.0\n",
      "running velocity: 234 result height is: 6560.0\n",
      "running velocity: 233 result height is: 6580.0\n",
      "running velocity: 232 result height is: 6600.0\n",
      "running velocity: 231 result height is: 6620.0\n",
      "running velocity: 230 result height is: 6640.0\n",
      "running velocity: 229 result height is: 6660.0\n",
      "running velocity: 228 result height is: 6680.0\n",
      "running velocity: 227 result height is: 6700.0\n",
      "running velocity: 226 result height is: 6720.0\n",
      "running velocity: 225 result height is: 6740.0\n",
      "running velocity: 224 result height is: 6760.0\n",
      "running velocity: 223 result height is: 6780.0\n",
      "running velocity: 222 result height is: 6800.0\n",
      "running velocity: 221 result height is: 6820.0\n",
      "running velocity: 220 result height is: 6840.0\n",
      "running velocity: 219 result height is: 6860.0\n",
      "running velocity: 218 result height is: 6880.0\n",
      "running velocity: 217 result height is: 6900.0\n",
      "running velocity: 216 result height is: 6920.0\n",
      "running velocity: 215 result height is: 6940.0\n",
      "running velocity: 214 result height is: 6960.0\n",
      "running velocity: 213 result height is: 6980.0\n",
      "running velocity: 212 result height is: 7000.0\n",
      "running velocity: 211 result height is: 7010.0\n",
      "running velocity: 210 result height is: 7030.0\n",
      "running velocity: 209 result height is: 7050.0\n",
      "running velocity: 208 result height is: 7070.0\n",
      "running velocity: 207 result height is: 7090.0\n",
      "running velocity: 206 result height is: 7110.0\n",
      "running velocity: 205 result height is: 7130.0\n",
      "running velocity: 204 result height is: 7150.0\n",
      "running velocity: 203 result height is: 7160.0\n",
      "running velocity: 202 result height is: 7180.0\n",
      "running velocity: 201 result height is: 7200.0\n",
      "running velocity: 200 result height is: 7220.0\n",
      "running velocity: 199 result height is: 7240.0\n",
      "running velocity: 198 result height is: 7260.0\n",
      "running velocity: 197 result height is: 7270.0\n",
      "running velocity: 196 result height is: 7290.0\n",
      "running velocity: 195 result height is: 7310.0\n",
      "running velocity: 194 result height is: 7330.0\n",
      "running velocity: 193 result height is: 7340.0\n",
      "running velocity: 192 result height is: 7360.0\n",
      "running velocity: 191 result height is: 7380.0\n",
      "running velocity: 190 result height is: 7400.0\n",
      "running velocity: 189 result height is: 7420.0\n",
      "running velocity: 188 result height is: 7430.0\n",
      "running velocity: 187 result height is: 7450.0\n",
      "running velocity: 186 result height is: 7470.0\n",
      "running velocity: 185 result height is: 7480.0\n",
      "running velocity: 184 result height is: 7500.0\n",
      "running velocity: 183 result height is: 7520.0\n",
      "running velocity: 182 result height is: 7540.0\n",
      "running velocity: 181 result height is: 7550.0\n",
      "running velocity: 180 result height is: 7570.0\n",
      "running velocity: 179 result height is: 7590.0\n",
      "running velocity: 178 result height is: 7600.0\n",
      "running velocity: 177 result height is: 7620.0\n",
      "running velocity: 176 result height is: 7640.0\n",
      "running velocity: 175 result height is: 7650.0\n",
      "running velocity: 174 result height is: 7670.0\n",
      "running velocity: 173 result height is: 7680.0\n",
      "running velocity: 172 result height is: 7700.0\n",
      "running velocity: 171 result height is: 7720.0\n",
      "running velocity: 170 result height is: 7730.0\n",
      "running velocity: 169 result height is: 7750.0\n",
      "running velocity: 168 result height is: 7760.0\n",
      "running velocity: 167 result height is: 7780.0\n",
      "running velocity: 166 result height is: 7800.0\n",
      "running velocity: 165 result height is: 7810.0\n",
      "running velocity: 164 result height is: 7830.0\n",
      "running velocity: 163 result height is: 7840.0\n",
      "running velocity: 162 result height is: 7860.0\n",
      "running velocity: 161 result height is: 7870.0\n",
      "running velocity: 160 result height is: 7890.0\n",
      "running velocity: 159 result height is: 7900.0\n",
      "running velocity: 158 result height is: 7920.0\n",
      "running velocity: 157 result height is: 7930.0\n",
      "running velocity: 156 result height is: 7950.0\n",
      "running velocity: 155 result height is: 7960.0\n",
      "running velocity: 154 result height is: 7980.0\n",
      "running velocity: 153 result height is: 7990.0\n",
      "running velocity: 152 result height is: 8010.0\n",
      "running velocity: 151 result height is: 8020.0\n",
      "running velocity: 150 result height is: 8040.0\n",
      "running velocity: 149 result height is: 8050.0\n",
      "running velocity: 148 result height is: 8070.0\n",
      "running velocity: 147 result height is: 8080.0\n",
      "running velocity: 146 result height is: 8090.0\n",
      "running velocity: 145 result height is: 8110.0\n",
      "running velocity: 144 result height is: 8120.0\n",
      "running velocity: 143 result height is: 8140.0\n",
      "running velocity: 142 result height is: 8150.0\n",
      "running velocity: 141 result height is: 8160.0\n",
      "running velocity: 140 result height is: 8180.0\n",
      "running velocity: 139 result height is: 8190.0\n",
      "running velocity: 138 result height is: 8200.0\n",
      "running velocity: 137 result height is: 8220.0\n",
      "running velocity: 136 result height is: 8230.0\n",
      "running velocity: 135 result height is: 8240.0\n",
      "running velocity: 134 result height is: 8260.0\n",
      "running velocity: 133 result height is: 8270.0\n",
      "running velocity: 132 result height is: 8280.0\n",
      "running velocity: 131 result height is: 8290.0\n",
      "running velocity: 130 result height is: 8310.0\n",
      "running velocity: 129 result height is: 8320.0\n",
      "running velocity: 128 result height is: 8330.0\n",
      "running velocity: 127 result height is: 8340.0\n",
      "running velocity: 126 result height is: 8360.0\n",
      "running velocity: 125 result height is: 8370.0\n",
      "running velocity: 124 result height is: 8380.0\n",
      "running velocity: 123 result height is: 8390.0\n",
      "running velocity: 122 result height is: 8410.0\n",
      "running velocity: 121 result height is: 8420.0\n",
      "running velocity: 120 result height is: 8430.0\n",
      "running velocity: 119 result height is: 8440.0\n",
      "running velocity: 118 result height is: 8450.0\n",
      "running velocity: 117 result height is: 8460.0\n",
      "running velocity: 116 result height is: 8480.0\n",
      "running velocity: 115 result height is: 8490.0\n",
      "running velocity: 114 result height is: 8500.0\n",
      "running velocity: 113 result height is: 8510.0\n",
      "running velocity: 112 result height is: 8520.0\n",
      "running velocity: 111 result height is: 8530.0\n",
      "running velocity: 110 result height is: 8540.0\n",
      "running velocity: 109 result height is: 8550.0\n",
      "running velocity: 108 result height is: 8560.0\n",
      "running velocity: 107 result height is: 8570.0\n",
      "running velocity: 106 result height is: 8590.0\n",
      "running velocity: 105 result height is: 8600.0\n",
      "running velocity: 104 result height is: 8610.0\n",
      "running velocity: 103 result height is: 8620.0\n",
      "running velocity: 102 result height is: 8630.0\n",
      "running velocity: 101 result height is: 8640.0\n",
      "running velocity: 100 result height is: 8650.0\n",
      "running velocity: 99 result height is: 8660.0\n",
      "running velocity: 98 result height is: 8670.0\n",
      "running velocity: 97 result height is: 8680.0\n",
      "running velocity: 96 result height is: 8690.0\n",
      "running velocity: 95 result height is: 8690.0\n",
      "running velocity: 94 result height is: 8700.0\n",
      "running velocity: 93 result height is: 8710.0\n",
      "running velocity: 92 result height is: 8720.0\n",
      "running velocity: 91 result height is: 8730.0\n",
      "running velocity: 90 result height is: 8740.0\n",
      "running velocity: 89 result height is: 8750.0\n",
      "running velocity: 88 result height is: 8760.0\n",
      "running velocity: 87 result height is: 8770.0\n",
      "running velocity: 86 result height is: 8780.0\n",
      "running velocity: 85 result height is: 8780.0\n",
      "running velocity: 84 result height is: 8790.0\n",
      "running velocity: 83 result height is: 8800.0\n",
      "running velocity: 82 result height is: 8810.0\n",
      "running velocity: 81 result height is: 8820.0\n",
      "running velocity: 80 result height is: 8830.0\n",
      "running velocity: 79 result height is: 8830.0\n",
      "running velocity: 78 result height is: 8840.0\n",
      "running velocity: 77 result height is: 8850.0\n",
      "running velocity: 76 result height is: 8860.0\n",
      "running velocity: 75 result height is: 8860.0\n",
      "running velocity: 74 result height is: 8870.0\n",
      "running velocity: 73 result height is: 8880.0\n",
      "running velocity: 72 result height is: 8890.0\n",
      "running velocity: 71 result height is: 8890.0\n",
      "running velocity: 70 result height is: 8900.0\n",
      "running velocity: 69 result height is: 8910.0\n",
      "running velocity: 68 result height is: 8910.0\n",
      "running velocity: 67 result height is: 8920.0\n",
      "running velocity: 66 result height is: 8930.0\n",
      "running velocity: 65 result height is: 8930.0\n",
      "running velocity: 64 result height is: 8940.0\n",
      "running velocity: 63 result height is: 8950.0\n",
      "running velocity: 62 result height is: 8950.0\n",
      "running velocity: 61 result height is: 8960.0\n",
      "running velocity: 60 result height is: 8970.0\n",
      "running velocity: 59 result height is: 8970.0\n",
      "running velocity: 58 result height is: 8980.0\n",
      "running velocity: 57 result height is: 8980.0\n",
      "running velocity: 56 result height is: 8990.0\n",
      "running velocity: 55 result height is: 9000.0\n",
      "running velocity: 54 result height is: 9000.0\n",
      "running velocity: 53 result height is: 9010.0\n",
      "running velocity: 52 result height is: 9010.0\n",
      "running velocity: 51 result height is: 9020.0\n",
      "running velocity: 50 result height is: 9020.0\n",
      "running velocity: 49 result height is: 9030.0\n",
      "running velocity: 48 result height is: 9030.0\n",
      "running velocity: 47 result height is: 9040.0\n",
      "running velocity: 46 result height is: 9040.0\n",
      "running velocity: 45 result height is: 9050.0\n",
      "running velocity: 44 result height is: 9050.0\n",
      "running velocity: 43 result height is: 9060.0\n",
      "running velocity: 42 result height is: 9060.0\n",
      "running velocity: 41 result height is: 9060.0\n",
      "running velocity: 40 result height is: 9070.0\n",
      "running velocity: 39 result height is: 9070.0\n",
      "running velocity: 38 result height is: 9080.0\n",
      "running velocity: 37 result height is: 9080.0\n",
      "running velocity: 36 result height is: 9080.0\n",
      "running velocity: 35 result height is: 9090.0\n",
      "running velocity: 34 result height is: 9090.0\n",
      "running velocity: 33 result height is: 9090.0\n",
      "running velocity: 32 result height is: 9100.0\n",
      "running velocity: 31 result height is: 9100.0\n",
      "running velocity: 30 result height is: 9100.0\n",
      "running velocity: 29 result height is: 9110.0\n",
      "running velocity: 28 result height is: 9110.0\n",
      "running velocity: 27 result height is: 9110.0\n",
      "running velocity: 26 result height is: 9110.0\n",
      "running velocity: 25 result height is: 9120.0\n",
      "running velocity: 24 result height is: 9120.0\n",
      "running velocity: 23 result height is: 9120.0\n",
      "running velocity: 22 result height is: 9120.0\n",
      "running velocity: 21 result height is: 9130.0\n",
      "running velocity: 20 result height is: 9130.0\n",
      "running velocity: 19 result height is: 9130.0\n",
      "running velocity: 18 result height is: 9130.0\n",
      "running velocity: 17 result height is: 9130.0\n",
      "running velocity: 16 result height is: 9140.0\n",
      "running velocity: 15 result height is: 9140.0\n",
      "running velocity: 14 result height is: 9140.0\n",
      "running velocity: 13 result height is: 9140.0\n",
      "running velocity: 12 result height is: 9140.0\n",
      "running velocity: 11 result height is: 9140.0\n",
      "running velocity: 10 result height is: 9140.0\n",
      "running velocity: 9 result height is: 9140.0\n",
      "running velocity: 8 result height is: 9150.0\n",
      "running velocity: 7 result height is: 9150.0\n",
      "running velocity: 6 result height is: 9150.0\n",
      "running velocity: 5 result height is: 9150.0\n",
      "running velocity: 4 result height is: 9150.0\n",
      "running velocity: 3 result height is: 9150.0\n",
      "running velocity: 2 result height is: 9150.0\n",
      "running velocity: 1 result height is: 9150.0\n",
      "running velocity: 0 result height is: 9150.0\n"
     ]
    }
   ],
   "source": [
    "generate_LUT_temp_apog(9144.0, 303.15)"
   ]
  },
  {
   "cell_type": "code",
   "execution_count": 47,
   "id": "2c426845-45c0-4be5-bc0a-b02f9860b1f2",
   "metadata": {},
   "outputs": [
    {
     "name": "stdout",
     "output_type": "stream",
     "text": [
      "[[0, 9144.0], [1, 9144.0], [2, 9144.0], [3, 9144.0], [4, 9144.0], [5, 9144.0], [6, 9144.0], [7, 9144.0], [8, 9144.0], [9, 9140.0], [10, 9140.0], [11, 9140.0], [12, 9140.0], [13, 9140.0], [14, 9140.0], [15, 9140.0], [16, 9140.0], [17, 9130.0], [18, 9130.0], [19, 9130.0], [20, 9130.0], [21, 9130.0], [22, 9120.0], [23, 9120.0], [24, 9120.0], [25, 9120.0], [26, 9110.0], [27, 9110.0], [28, 9110.0], [29, 9110.0], [30, 9100.0], [31, 9100.0], [32, 9100.0], [33, 9090.0], [34, 9090.0], [35, 9090.0], [36, 9080.0], [37, 9080.0], [38, 9080.0], [39, 9070.0], [40, 9070.0], [41, 9060.0], [42, 9060.0], [43, 9060.0], [44, 9050.0], [45, 9050.0], [46, 9040.0], [47, 9040.0], [48, 9030.0], [49, 9030.0], [50, 9020.0], [51, 9020.0], [52, 9010.0], [53, 9010.0], [54, 9000.0], [55, 9000.0], [56, 8990.0], [57, 8980.0], [58, 8980.0], [59, 8970.0], [60, 8970.0], [61, 8960.0], [62, 8950.0], [63, 8950.0], [64, 8940.0], [65, 8930.0], [66, 8930.0], [67, 8920.0], [68, 8910.0], [69, 8910.0], [70, 8900.0], [71, 8890.0], [72, 8890.0], [73, 8880.0], [74, 8870.0], [75, 8860.0], [76, 8860.0], [77, 8850.0], [78, 8840.0], [79, 8830.0], [80, 8830.0], [81, 8820.0], [82, 8810.0], [83, 8800.0], [84, 8790.0], [85, 8780.0], [86, 8780.0], [87, 8770.0], [88, 8760.0], [89, 8750.0], [90, 8740.0], [91, 8730.0], [92, 8720.0], [93, 8710.0], [94, 8700.0], [95, 8690.0], [96, 8690.0], [97, 8680.0], [98, 8670.0], [99, 8660.0], [100, 8650.0], [101, 8640.0], [102, 8630.0], [103, 8620.0], [104, 8610.0], [105, 8600.0], [106, 8590.0], [107, 8570.0], [108, 8560.0], [109, 8550.0], [110, 8540.0], [111, 8530.0], [112, 8520.0], [113, 8510.0], [114, 8500.0], [115, 8490.0], [116, 8480.0], [117, 8460.0], [118, 8450.0], [119, 8440.0], [120, 8430.0], [121, 8420.0], [122, 8410.0], [123, 8390.0], [124, 8380.0], [125, 8370.0], [126, 8360.0], [127, 8340.0], [128, 8330.0], [129, 8320.0], [130, 8310.0], [131, 8290.0], [132, 8280.0], [133, 8270.0], [134, 8260.0], [135, 8240.0], [136, 8230.0], [137, 8220.0], [138, 8200.0], [139, 8190.0], [140, 8180.0], [141, 8160.0], [142, 8150.0], [143, 8140.0], [144, 8120.0], [145, 8110.0], [146, 8090.0], [147, 8080.0], [148, 8070.0], [149, 8050.0], [150, 8040.0], [151, 8020.0], [152, 8010.0], [153, 7990.0], [154, 7980.0], [155, 7960.0], [156, 7950.0], [157, 7930.0], [158, 7920.0], [159, 7900.0], [160, 7890.0], [161, 7870.0], [162, 7860.0], [163, 7840.0], [164, 7830.0], [165, 7810.0], [166, 7800.0], [167, 7780.0], [168, 7760.0], [169, 7750.0], [170, 7730.0], [171, 7720.0], [172, 7700.0], [173, 7680.0], [174, 7670.0], [175, 7650.0], [176, 7640.0], [177, 7620.0], [178, 7600.0], [179, 7590.0], [180, 7570.0], [181, 7550.0], [182, 7540.0], [183, 7520.0], [184, 7500.0], [185, 7480.0], [186, 7470.0], [187, 7450.0], [188, 7430.0], [189, 7420.0], [190, 7400.0], [191, 7380.0], [192, 7360.0], [193, 7340.0], [194, 7330.0], [195, 7310.0], [196, 7290.0], [197, 7270.0], [198, 7260.0], [199, 7240.0], [200, 7220.0], [201, 7200.0], [202, 7180.0], [203, 7160.0], [204, 7150.0], [205, 7130.0], [206, 7110.0], [207, 7090.0], [208, 7070.0], [209, 7050.0], [210, 7030.0], [211, 7010.0], [212, 7000.0], [213, 6980.0], [214, 6960.0], [215, 6940.0], [216, 6920.0], [217, 6900.0], [218, 6880.0], [219, 6860.0], [220, 6840.0], [221, 6820.0], [222, 6800.0], [223, 6780.0], [224, 6760.0], [225, 6740.0], [226, 6720.0], [227, 6700.0], [228, 6680.0], [229, 6660.0], [230, 6640.0], [231, 6620.0], [232, 6600.0], [233, 6580.0], [234, 6560.0], [235, 6540.0], [236, 6520.0], [237, 6500.0], [238, 6480.0], [239, 6460.0], [240, 6440.0], [241, 6420.0], [242, 6400.0], [243, 6380.0], [244, 6360.0], [245, 6340.0], [246, 6320.0], [247, 6300.0], [248, 6270.0], [249, 6250.0], [250, 6230.0], [251, 6210.0], [252, 6190.0], [253, 6170.0], [254, 6150.0], [255, 6130.0], [256, 6100.0], [257, 6080.0], [258, 6060.0], [259, 6040.0], [260, 6020.0]]\n"
     ]
    }
   ],
   "source": [
    "print(LUT)"
   ]
  },
  {
   "cell_type": "code",
   "execution_count": 48,
   "id": "f198875d-66f5-4d4b-9c72-79b204dee7f9",
   "metadata": {},
   "outputs": [],
   "source": [
    "import numpy as np\n",
    "import matplotlib.pyplot as plt\n",
    "import seaborn as sns\n",
    "import pandas as pd\n",
    "import csv\n",
    "from scipy.optimize import minimize\n"
   ]
  },
  {
   "cell_type": "code",
   "execution_count": 49,
   "id": "38a90b85-a907-4954-9e89-481837e55267",
   "metadata": {},
   "outputs": [
    {
     "data": {
      "text/plain": [
       "Text(0, 0.5, 'Height (m)')"
      ]
     },
     "execution_count": 49,
     "metadata": {},
     "output_type": "execute_result"
    },
    {
     "data": {
      "image/png": "[encoded data removed]",
      "text/plain": [
       "<Figure size 640x480 with 1 Axes>"
      ]
     },
     "metadata": {},
     "output_type": "display_data"
    }
   ],
   "source": [
    "vel = []\n",
    "height = []\n",
    "for i in range(0,261):\n",
    "    vel.append(LUT[i][0])\n",
    "    height.append(LUT[i][1])\n",
    "\n",
    "vel = np.array(vel)\n",
    "height = np.array(height)\n",
    "\n",
    "plt.plot(vel, height, color='darkblue')  \n",
    "plt.title(\"Min Deployment Height for a Given Velocity\")\n",
    "plt.xlabel(\"Velocity (m/s)\")\n",
    "plt.ylabel(\"Height (m)\")"
   ]
  },
  {
   "cell_type": "code",
   "execution_count": 50,
   "id": "bb1231df-ee64-433f-bb75-ba8a31801bc6",
   "metadata": {},
   "outputs": [
    {
     "name": "stdout",
     "output_type": "stream",
     "text": [
      "Polynomial equation:\n",
      "         2\n",
      "-0.0431 x - 1.08 x + 9174\n"
     ]
    },
    {
     "data": {
      "image/png": "[encoded data removed]",
      "text/plain": [
       "<Figure size 640x480 with 1 Axes>"
      ]
     },
     "metadata": {},
     "output_type": "display_data"
    }
   ],
   "source": [
    "degree = 2\n",
    "\n",
    "# Perform polynomial fit\n",
    "coefficients = np.polyfit(vel, height, degree)\n",
    "polynomial = np.poly1d(coefficients)\n",
    "\n",
    "# Print the polynomial equation\n",
    "print(\"Polynomial equation:\")\n",
    "print(polynomial)\n",
    "\n",
    "# Generate x values for plotting the polynomial fit\n",
    "x_fit = np.linspace(min(vel), max(vel), 100)\n",
    "y_fit = polynomial(x_fit)\n",
    "\n",
    "# Plot the original data points\n",
    "plt.scatter(vel, height, color='red', label='Data Points')\n",
    "\n",
    "# Plot the polynomial fit\n",
    "plt.plot(x_fit, y_fit, label=f'Polynomial Fit (degree={degree})')\n",
    "\n",
    "plt.xlabel('X')\n",
    "plt.ylabel('Y')\n",
    "plt.legend()\n",
    "plt.title('Polynomial Fit of 2D Coordinates')\n",
    "plt.show()"
   ]
  },
  {
   "cell_type": "code",
   "execution_count": 51,
   "id": "fce75d46-2a43-46ec-b7f5-d4014d1b59e2",
   "metadata": {},
   "outputs": [
    {
     "name": "stdout",
     "output_type": "stream",
     "text": [
      "[-4.31011183e-02 -1.08016520e+00  9.17436696e+03]\n"
     ]
    }
   ],
   "source": [
    "print(coefficients)"
   ]
  },
  {
   "cell_type": "code",
   "execution_count": null,
   "id": "996a28fa-6cf5-4778-95cd-90b6b5d9ae64",
   "metadata": {},
   "outputs": [],
   "source": []
  },
  {
   "cell_type": "code",
   "execution_count": 14,
   "id": "543d4426-f16d-4ba8-9491-896fb60c42ee",
   "metadata": {},
   "outputs": [],
   "source": [
    "mle.quit()"
   ]
  },
  {
   "cell_type": "code",
   "execution_count": null,
   "id": "668fbb58-1344-4de5-9d01-473ee720739f",
   "metadata": {},
   "outputs": [],
   "source": []
  }
 ],
 "metadata": {
  "kernelspec": {
   "display_name": "Python 3 (ipykernel)",
   "language": "python",
   "name": "python3"
  },
  "language_info": {
   "codemirror_mode": {
    "name": "ipython",
    "version": 3
   },
   "file_extension": ".py",
   "mimetype": "text/x-python",
   "name": "python",
   "nbconvert_exporter": "python",
   "pygments_lexer": "ipython3",
   "version": "3.11.5"
  }
 },
 "nbformat": 4,
 "nbformat_minor": 5
}
