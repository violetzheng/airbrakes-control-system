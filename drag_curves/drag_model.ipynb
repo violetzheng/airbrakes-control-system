{
 "cells": [
  {
   "cell_type": "code",
   "execution_count": 1,
   "id": "49bcebf0",
   "metadata": {},
   "outputs": [],
   "source": [
    "import pandas as pd\n",
    "import numpy as np\n",
    "import matplotlib.pyplot as plt\n",
    "\n",
    "from scipy.spatial import Delaunay\n",
    "from typing import Optional, Union, Callable"
   ]
  },
  {
   "cell_type": "code",
   "execution_count": 2,
   "id": "170eb89f-78e3-4bbf-8e2b-5d99f418d47d",
   "metadata": {},
   "outputs": [],
   "source": [
    "MACHS = [0.05,0.1,0.15,0.2,0.25,0.3,0.35,0.4,0.45,0.5,0.55,0.6,0.65,0.7,0.75,0.8]\n",
    "EXTENSIONS = [0,0.005086,0.010172,0.015258,0.020344,0.02543]\n",
    "DATA_SHAPE = (len(MACHS), len(EXTENSIONS))\n",
    "\n",
    "LOWER_PRESSURE = 70\n",
    "HIGHER_PRESSURE = 101.325\n",
    "\n",
    "LOWER_PRESSURE_FILE = \"70_drag.csv\"\n",
    "HIGHER_PRESSURE_FILE = \"101_drag.csv\"\n",
    "\n",
    "MACH_LABEL = \"mach\"\n",
    "EXTENSION_LABEL = \"extension\"\n",
    "DRAG_LABEL = \"drag\"\n",
    "\n",
    "LOWER_PRESSURE_LABEL = \"lower_pressure\"\n",
    "HIGHER_PRESSURE_LABEL = \"higher_pressure\""
   ]
  },
  {
   "cell_type": "code",
   "execution_count": 3,
   "id": "abe1ca60",
   "metadata": {},
   "outputs": [
    {
     "data": {
      "text/plain": [
       "(16, 6)"
      ]
     },
     "execution_count": 3,
     "metadata": {},
     "output_type": "execute_result"
    }
   ],
   "source": [
    "DATA_SHAPE"
   ]
  },
  {
   "cell_type": "code",
   "execution_count": 4,
   "id": "0f9d94d4",
   "metadata": {},
   "outputs": [],
   "source": [
    "def read_data(file: str, series: Optional[bool] = False) -> Union[pd.DataFrame, pd.Series]:\n",
    "    data = pd.read_csv(file, header=None)\n",
    "    data.columns = EXTENSIONS\n",
    "    data.index = MACHS\n",
    "\n",
    "    data = data.stack().rename(DRAG_LABEL)\n",
    "    data.index.names = [MACH_LABEL, EXTENSION_LABEL]\n",
    "    return data if series else data.reset_index()\n",
    "\n",
    "def plot_data(*data: pd.DataFrame) -> None:\n",
    "    trisurfs = []\n",
    "    for df in data:\n",
    "        points_2d = np.vstack([df[EXTENSION_LABEL], df[MACH_LABEL]]).T\n",
    "        simplices = Delaunay(points_2d).simplices\n",
    "        trisurfs += ff.create_trisurf(df[EXTENSION_LABEL], df[MACH_LABEL], df[DRAG_LABEL], \n",
    "                                      show_colorbar=not bool(trisurfs), simplices=simplices).data\n",
    "    \n",
    "    fig = go.Figure(data=trisurfs)\n",
    "    fig.update_layout(width=800, height=600)\n",
    "    fig.update_scenes(\n",
    "        xaxis_title_text=EXTENSION_LABEL, \n",
    "        yaxis_title_text=MACH_LABEL, \n",
    "        zaxis_title_text=DRAG_LABEL)\n",
    "    \n",
    "    fig.show()"
   ]
  },
  {
   "cell_type": "code",
   "execution_count": 5,
   "id": "b992e4bf",
   "metadata": {},
   "outputs": [],
   "source": [
    "lower_pressure_data = read_data(LOWER_PRESSURE_FILE)\n",
    "lower_pressure_data.to_csv(\"lower_pressure_processed.csv\", index=False)"
   ]
  },
  {
   "cell_type": "code",
   "execution_count": 6,
   "id": "25acbdf3",
   "metadata": {},
   "outputs": [],
   "source": [
    "higher_pressure_data = read_data(HIGHER_PRESSURE_FILE)\n",
    "higher_pressure_data.to_csv(\"higher_pressure_processed.csv\", index=False)"
   ]
  },
  {
   "cell_type": "code",
   "execution_count": 7,
   "id": "74b6a57e",
   "metadata": {},
   "outputs": [
    {
     "data": {
      "text/html": [
       "<div>\n",
       "<style scoped>\n",
       "    .dataframe tbody tr th:only-of-type {\n",
       "        vertical-align: middle;\n",
       "    }\n",
       "\n",
       "    .dataframe tbody tr th {\n",
       "        vertical-align: top;\n",
       "    }\n",
       "\n",
       "    .dataframe thead th {\n",
       "        text-align: right;\n",
       "    }\n",
       "</style>\n",
       "<table border=\"1\" class=\"dataframe\">\n",
       "  <thead>\n",
       "    <tr style=\"text-align: right;\">\n",
       "      <th></th>\n",
       "      <th>mach</th>\n",
       "      <th>extension</th>\n",
       "      <th>drag_lower_pressure</th>\n",
       "      <th>drag_higher_pressure</th>\n",
       "    </tr>\n",
       "  </thead>\n",
       "  <tbody>\n",
       "    <tr>\n",
       "      <th>0</th>\n",
       "      <td>0.05</td>\n",
       "      <td>0.000000</td>\n",
       "      <td>0.721123</td>\n",
       "      <td>0.986143</td>\n",
       "    </tr>\n",
       "    <tr>\n",
       "      <th>1</th>\n",
       "      <td>0.05</td>\n",
       "      <td>0.005086</td>\n",
       "      <td>0.734851</td>\n",
       "      <td>1.007613</td>\n",
       "    </tr>\n",
       "    <tr>\n",
       "      <th>2</th>\n",
       "      <td>0.05</td>\n",
       "      <td>0.010172</td>\n",
       "      <td>0.785478</td>\n",
       "      <td>1.088461</td>\n",
       "    </tr>\n",
       "    <tr>\n",
       "      <th>3</th>\n",
       "      <td>0.05</td>\n",
       "      <td>0.015258</td>\n",
       "      <td>0.863948</td>\n",
       "      <td>1.198790</td>\n",
       "    </tr>\n",
       "    <tr>\n",
       "      <th>4</th>\n",
       "      <td>0.05</td>\n",
       "      <td>0.020344</td>\n",
       "      <td>0.941864</td>\n",
       "      <td>1.320181</td>\n",
       "    </tr>\n",
       "    <tr>\n",
       "      <th>...</th>\n",
       "      <td>...</td>\n",
       "      <td>...</td>\n",
       "      <td>...</td>\n",
       "      <td>...</td>\n",
       "    </tr>\n",
       "    <tr>\n",
       "      <th>91</th>\n",
       "      <td>0.80</td>\n",
       "      <td>0.005086</td>\n",
       "      <td>137.227384</td>\n",
       "      <td>193.243124</td>\n",
       "    </tr>\n",
       "    <tr>\n",
       "      <th>92</th>\n",
       "      <td>0.80</td>\n",
       "      <td>0.010172</td>\n",
       "      <td>157.986312</td>\n",
       "      <td>223.065500</td>\n",
       "    </tr>\n",
       "    <tr>\n",
       "      <th>93</th>\n",
       "      <td>0.80</td>\n",
       "      <td>0.015258</td>\n",
       "      <td>179.677388</td>\n",
       "      <td>254.888716</td>\n",
       "    </tr>\n",
       "    <tr>\n",
       "      <th>94</th>\n",
       "      <td>0.80</td>\n",
       "      <td>0.020344</td>\n",
       "      <td>201.482804</td>\n",
       "      <td>292.228984</td>\n",
       "    </tr>\n",
       "    <tr>\n",
       "      <th>95</th>\n",
       "      <td>0.80</td>\n",
       "      <td>0.025430</td>\n",
       "      <td>231.197144</td>\n",
       "      <td>331.862628</td>\n",
       "    </tr>\n",
       "  </tbody>\n",
       "</table>\n",
       "<p>96 rows × 4 columns</p>\n",
       "</div>"
      ],
      "text/plain": [
       "    mach  extension  drag_lower_pressure  drag_higher_pressure\n",
       "0   0.05   0.000000             0.721123              0.986143\n",
       "1   0.05   0.005086             0.734851              1.007613\n",
       "2   0.05   0.010172             0.785478              1.088461\n",
       "3   0.05   0.015258             0.863948              1.198790\n",
       "4   0.05   0.020344             0.941864              1.320181\n",
       "..   ...        ...                  ...                   ...\n",
       "91  0.80   0.005086           137.227384            193.243124\n",
       "92  0.80   0.010172           157.986312            223.065500\n",
       "93  0.80   0.015258           179.677388            254.888716\n",
       "94  0.80   0.020344           201.482804            292.228984\n",
       "95  0.80   0.025430           231.197144            331.862628\n",
       "\n",
       "[96 rows x 4 columns]"
      ]
     },
     "execution_count": 7,
     "metadata": {},
     "output_type": "execute_result"
    }
   ],
   "source": [
    "pressure_data = pd.merge(lower_pressure_data, higher_pressure_data, how=\"inner\",\n",
    "                         suffixes=(f\"_{LOWER_PRESSURE_LABEL}\", f\"_{HIGHER_PRESSURE_LABEL}\"),\n",
    "                         left_on=[MACH_LABEL, EXTENSION_LABEL],\n",
    "                         right_on=[MACH_LABEL, EXTENSION_LABEL])\n",
    "pressure_data"
   ]
  },
  {
   "cell_type": "code",
   "execution_count": 13,
   "id": "7bde14fb-b241-45f8-b595-cee6fdbcec30",
   "metadata": {},
   "outputs": [],
   "source": [
    "MachExtensionPair = tuple[float, float]\n",
    "PressureToDragFunc = Callable[[float], float]\n",
    "pressure_to_drag: dict[MachExtensionPair, PressureToDragFunc] = {}\n",
    "\n",
    "def fit_linear_model(lower_pressure: float, higher_pressure: float,\n",
    "                    drag_lower_pressure: float, drag_higher_pressure: float) -> PressureToDragFunc:\n",
    "\n",
    "    def linear_model(pressure: float) -> float:\n",
    "        slope = (drag_higher_pressure - drag_lower_pressure) / (higher_pressure - lower_pressure)\n",
    "        drag = slope * (pressure - higher_pressure) + drag_higher_pressure\n",
    "        return drag\n",
    "    \n",
    "    return linear_model\n",
    "\n",
    "for _, row in pressure_data.iterrows():\n",
    "    mach_extension_pair = (row[MACH_LABEL], row[EXTENSION_LABEL])\n",
    "    drag_lower_pressure = row[f\"{DRAG_LABEL}_{LOWER_PRESSURE_LABEL}\"]\n",
    "    drag_higher_pressure = row[f\"{DRAG_LABEL}_{HIGHER_PRESSURE_LABEL}\"]\n",
    "    pressure_to_drag[mach_extension_pair] = fit_linear_model(LOWER_PRESSURE, HIGHER_PRESSURE, drag_lower_pressure, drag_higher_pressure)"
   ]
  },
  {
   "cell_type": "code",
   "execution_count": 14,
   "id": "d7493051-359c-4ce6-b627-0cf1932f9091",
   "metadata": {},
   "outputs": [
    {
     "data": {
      "text/plain": [
       "30.6038596"
      ]
     },
     "execution_count": 14,
     "metadata": {},
     "output_type": "execute_result"
    }
   ],
   "source": [
    "def calculate_drag(mach: float, extension: float, pressure: float) -> float:\n",
    "    mach_extension_pair = (mach, extension)\n",
    "    if mach_extension_pair not in pressure_to_drag:\n",
    "        raise RuntimeError(\"Invalid mach and extension pair.\")\n",
    "    return pressure_to_drag[mach_extension_pair](pressure)\n",
    "\n",
    "calculate_drag(mach=0.3, extension=0.005086, pressure=101)"
   ]
  },
  {
   "cell_type": "code",
   "execution_count": 19,
   "id": "029495b2-2561-47c2-ab11-38cb1ab5198a",
   "metadata": {},
   "outputs": [],
   "source": [
    "SAMPLES = 10000\n",
    "MIN_PRESSURE = 50\n",
    "MAX_PRESSURE = 100\n",
    "\n",
    "mach_train = []\n",
    "extension_train = []\n",
    "pressure_train = []\n",
    "drag_train = []\n",
    "\n",
    "for mach, extension in zip(MACHS, EXTENSIONS):\n",
    "    pressures = np.random.uniform(MIN_PRESSURE, MAX_PRESSURE, SAMPLES)\n",
    "    for pressure in pressures:\n",
    "        mach_train.append(mach)\n",
    "        extension_train.append(extension)\n",
    "        pressure_train.append(pressure)\n",
    "        drag_train.append(calculate_drag(mach, extension, pressure))\n",
    "\n",
    "X = pd.DataFrame({\"mach\": mach_train, \"extension\": extension_train, \"pressure\": pressure_train})\n",
    "y = pd.Series(drag_train)"
   ]
  },
  {
   "cell_type": "code",
   "execution_count": 20,
   "id": "5cc695ba",
   "metadata": {},
   "outputs": [
    {
     "data": {
      "text/html": [
       "<div>\n",
       "<style scoped>\n",
       "    .dataframe tbody tr th:only-of-type {\n",
       "        vertical-align: middle;\n",
       "    }\n",
       "\n",
       "    .dataframe tbody tr th {\n",
       "        vertical-align: top;\n",
       "    }\n",
       "\n",
       "    .dataframe thead th {\n",
       "        text-align: right;\n",
       "    }\n",
       "</style>\n",
       "<table border=\"1\" class=\"dataframe\">\n",
       "  <thead>\n",
       "    <tr style=\"text-align: right;\">\n",
       "      <th></th>\n",
       "      <th>mach</th>\n",
       "      <th>extension</th>\n",
       "      <th>pressure</th>\n",
       "    </tr>\n",
       "  </thead>\n",
       "  <tbody>\n",
       "    <tr>\n",
       "      <th>0</th>\n",
       "      <td>0.30</td>\n",
       "      <td>0.00000</td>\n",
       "      <td>69.120717</td>\n",
       "    </tr>\n",
       "    <tr>\n",
       "      <th>1</th>\n",
       "      <td>0.30</td>\n",
       "      <td>0.00000</td>\n",
       "      <td>93.224608</td>\n",
       "    </tr>\n",
       "    <tr>\n",
       "      <th>2</th>\n",
       "      <td>0.30</td>\n",
       "      <td>0.00000</td>\n",
       "      <td>99.657630</td>\n",
       "    </tr>\n",
       "    <tr>\n",
       "      <th>3</th>\n",
       "      <td>0.30</td>\n",
       "      <td>0.00000</td>\n",
       "      <td>79.554655</td>\n",
       "    </tr>\n",
       "    <tr>\n",
       "      <th>4</th>\n",
       "      <td>0.30</td>\n",
       "      <td>0.00000</td>\n",
       "      <td>98.869573</td>\n",
       "    </tr>\n",
       "    <tr>\n",
       "      <th>...</th>\n",
       "      <td>...</td>\n",
       "      <td>...</td>\n",
       "      <td>...</td>\n",
       "    </tr>\n",
       "    <tr>\n",
       "      <th>59995</th>\n",
       "      <td>0.55</td>\n",
       "      <td>0.02543</td>\n",
       "      <td>90.195052</td>\n",
       "    </tr>\n",
       "    <tr>\n",
       "      <th>59996</th>\n",
       "      <td>0.55</td>\n",
       "      <td>0.02543</td>\n",
       "      <td>70.574576</td>\n",
       "    </tr>\n",
       "    <tr>\n",
       "      <th>59997</th>\n",
       "      <td>0.55</td>\n",
       "      <td>0.02543</td>\n",
       "      <td>72.164999</td>\n",
       "    </tr>\n",
       "    <tr>\n",
       "      <th>59998</th>\n",
       "      <td>0.55</td>\n",
       "      <td>0.02543</td>\n",
       "      <td>51.600169</td>\n",
       "    </tr>\n",
       "    <tr>\n",
       "      <th>59999</th>\n",
       "      <td>0.55</td>\n",
       "      <td>0.02543</td>\n",
       "      <td>66.950257</td>\n",
       "    </tr>\n",
       "  </tbody>\n",
       "</table>\n",
       "<p>60000 rows × 3 columns</p>\n",
       "</div>"
      ],
      "text/plain": [
       "       mach  extension   pressure\n",
       "0      0.30    0.00000  69.120717\n",
       "1      0.30    0.00000  93.224608\n",
       "2      0.30    0.00000  99.657630\n",
       "3      0.30    0.00000  79.554655\n",
       "4      0.30    0.00000  98.869573\n",
       "...     ...        ...        ...\n",
       "59995  0.55    0.02543  90.195052\n",
       "59996  0.55    0.02543  70.574576\n",
       "59997  0.55    0.02543  72.164999\n",
       "59998  0.55    0.02543  51.600169\n",
       "59999  0.55    0.02543  66.950257\n",
       "\n",
       "[60000 rows x 3 columns]"
      ]
     },
     "execution_count": 20,
     "metadata": {},
     "output_type": "execute_result"
    }
   ],
   "source": [
    "X"
   ]
  },
  {
   "cell_type": "code",
   "execution_count": 21,
   "id": "7d6525a8-25df-483d-b7d7-2505b023d8c9",
   "metadata": {},
   "outputs": [
    {
     "data": {
      "text/plain": [
       "0         21.127767\n",
       "1         27.231174\n",
       "2         28.860095\n",
       "3         23.769771\n",
       "4         28.660549\n",
       "            ...    \n",
       "59995    149.434567\n",
       "59996    119.410970\n",
       "59997    121.844663\n",
       "59998     90.376000\n",
       "59999    113.864973\n",
       "Length: 60000, dtype: float64"
      ]
     },
     "execution_count": 21,
     "metadata": {},
     "output_type": "execute_result"
    }
   ],
   "source": [
    "y"
   ]
  },
  {
   "cell_type": "code",
   "execution_count": 22,
   "id": "1ad878f2-eeb9-40ad-a4af-ad9f7067661a",
   "metadata": {},
   "outputs": [],
   "source": [
    "import numpy as np\n",
    "import pandas as pd\n",
    "import torch\n",
    "import torch.nn as nn\n",
    "import torch.optim as optim\n",
    "from sklearn.model_selection import train_test_split"
   ]
  },
  {
   "cell_type": "code",
   "execution_count": 23,
   "id": "ea33579c-4871-4b93-b9a2-f974d56d1825",
   "metadata": {},
   "outputs": [],
   "source": [
    "class NeuralNet(nn.Module):\n",
    "    def __init__(self, input_size, hidden_size, output_size):\n",
    "        super(NeuralNet, self).__init__()\n",
    "        self.fc1 = nn.Linear(input_size, hidden_size)\n",
    "        self.fc2 = nn.Linear(hidden_size, output_size)\n",
    "\n",
    "    def forward(self, x):\n",
    "        x = torch.relu(self.fc1(x))\n",
    "        x = self.fc2(x)\n",
    "        return x"
   ]
  },
  {
   "cell_type": "code",
   "execution_count": 29,
   "id": "7edcc4a6-c676-4fda-a019-ce72b25057d4",
   "metadata": {},
   "outputs": [],
   "source": [
    "X_train, X_test, y_train, y_test = train_test_split(X.values, y.values, test_size=0.2, random_state=42)"
   ]
  },
  {
   "cell_type": "code",
   "execution_count": 57,
   "id": "dc4b0574-66f7-434f-a7f6-3448e79c6858",
   "metadata": {},
   "outputs": [],
   "source": [
    "X_train_tensor = torch.tensor(X_train, dtype=torch.float32)\n",
    "X_test_tensor = torch.tensor(X_test, dtype=torch.float32)\n",
    "y_train_tensor = torch.tensor(y_train, dtype=torch.float32).view(-1, 1)\n",
    "y_test_tensor = torch.tensor(y_test, dtype=torch.float32).view(-1, 1)"
   ]
  },
  {
   "cell_type": "code",
   "execution_count": 58,
   "id": "e16f6ee3-dae4-4101-92be-1c2102bc9c3b",
   "metadata": {},
   "outputs": [],
   "source": [
    "input_size = 3\n",
    "hidden_size = 64\n",
    "output_size = 1\n",
    "learning_rate = 0.05\n",
    "num_epochs = 2000\n",
    "\n",
    "model = NeuralNet(input_size, hidden_size, output_size)\n",
    "criterion = nn.MSELoss()\n",
    "optimizer = optim.Adam(model.parameters(), lr=learning_rate)"
   ]
  },
  {
   "cell_type": "code",
   "execution_count": 59,
   "id": "33eff057-e024-47b9-9d56-bd0373e47bae",
   "metadata": {},
   "outputs": [
    {
     "name": "stdout",
     "output_type": "stream",
     "text": [
      "Epoch [100/2000], Loss: 1245.7410\n",
      "Epoch [200/2000], Loss: 865.5724\n",
      "Epoch [300/2000], Loss: 288.6269\n",
      "Epoch [400/2000], Loss: 92.9055\n",
      "Epoch [500/2000], Loss: 66.5195\n",
      "Epoch [600/2000], Loss: 32.4154\n",
      "Epoch [700/2000], Loss: 24.0039\n",
      "Epoch [800/2000], Loss: 16.8289\n",
      "Epoch [900/2000], Loss: 15.7643\n",
      "Epoch [1000/2000], Loss: 15.6941\n",
      "Epoch [1100/2000], Loss: 13.4208\n",
      "Epoch [1200/2000], Loss: 29.6157\n",
      "Epoch [1300/2000], Loss: 5.6706\n",
      "Epoch [1400/2000], Loss: 8.2172\n",
      "Epoch [1500/2000], Loss: 20.9137\n",
      "Epoch [1600/2000], Loss: 9.4531\n",
      "Epoch [1700/2000], Loss: 19.1247\n",
      "Epoch [1800/2000], Loss: 11.7154\n",
      "Epoch [1900/2000], Loss: 6.0398\n",
      "Epoch [2000/2000], Loss: 5.2186\n"
     ]
    }
   ],
   "source": [
    "for epoch in range(num_epochs):\n",
    "    model.train()\n",
    "    optimizer.zero_grad()\n",
    "    outputs = model(X_train_tensor)\n",
    "    loss = criterion(outputs, y_train_tensor)\n",
    "    loss.backward()\n",
    "    optimizer.step()\n",
    "\n",
    "    if (epoch+1) % 100 == 0:\n",
    "        print(f'Epoch [{epoch+1}/{num_epochs}], Loss: {loss.item():.4f}')\n"
   ]
  },
  {
   "cell_type": "code",
   "execution_count": 61,
   "id": "00e94aff-9a20-4fa8-b864-469563f8afff",
   "metadata": {},
   "outputs": [
    {
     "name": "stdout",
     "output_type": "stream",
     "text": [
      "Mean Squared Error: 6.032961\n",
      "R-squared Score: 0.9957799532054289\n"
     ]
    },
    {
     "data": {
      "image/png": "[encoded data removed]",
      "text/plain": [
       "<Figure size 640x480 with 1 Axes>"
      ]
     },
     "metadata": {},
     "output_type": "display_data"
    }
   ],
   "source": [
    "# Evaluate the model\n",
    "model.eval()\n",
    "with torch.no_grad():\n",
    "    y_pred = model(X_test_tensor).numpy()\n",
    "\n",
    "# Convert predictions and ground truth to numpy arrays\n",
    "y_pred = y_pred.flatten()  # Flatten predictions\n",
    "y_test_numpy = y_test_tensor.numpy().flatten()  # Flatten ground truth\n",
    "\n",
    "# Calculate evaluation metrics\n",
    "from sklearn.metrics import mean_squared_error, r2_score\n",
    "\n",
    "mse = mean_squared_error(y_test_numpy, y_pred)\n",
    "r2 = r2_score(y_test_numpy, y_pred)\n",
    "\n",
    "print(\"Mean Squared Error:\", mse)\n",
    "print(\"R-squared Score:\", r2)\n",
    "\n",
    "# Optionally, you can plot the predicted vs. actual values\n",
    "import matplotlib.pyplot as plt\n",
    "\n",
    "plt.scatter(y_test_numpy, y_pred, color='slateblue')\n",
    "plt.title('Actual vs. Predicted')\n",
    "plt.xlabel('Actual')\n",
    "plt.ylabel('Predicted')\n",
    "plt.show()"
   ]
  },
  {
   "cell_type": "code",
   "execution_count": 17,
   "id": "53772cb0-20ad-4524-bab7-1a440af46c8c",
   "metadata": {},
   "outputs": [
    {
     "ename": "SyntaxError",
     "evalue": "invalid syntax (4185352727.py, line 1)",
     "output_type": "error",
     "traceback": [
      "\u001b[0;36m  Cell \u001b[0;32mIn[17], line 1\u001b[0;36m\u001b[0m\n\u001b[0;31m    Fit Name: lower\u001b[0m\n\u001b[0m        ^\u001b[0m\n\u001b[0;31mSyntaxError\u001b[0m\u001b[0;31m:\u001b[0m invalid syntax\n"
     ]
    }
   ],
   "source": [
    "Fit Name: lower\n",
    "x = mach, y = extension\n",
    "Polynomial Surface Fit (poly22)\n",
    "f(x,y) = 15.9894 - 81.7799 * x -1.7041e+03 *y + 280.5132*x^2 + 6.2419e+03*x*y + 2.7922e+04*y^2\n",
    "\n",
    "Coefficients and 95% Confidence Bounds\n",
    "          Value          Lower          Upper    \n",
    "p00    15.9894        11.7261        20.2528    \n",
    "p10    -81.7799       -99.2145       -64.3453   \n",
    "p01    -1.7041e+03    -2.1158e+03    -1.2923e+03\n",
    "p20    280.5132       261.6525       299.3738   \n",
    "p11    6.2419e+03     5.7969e+03     6.6869e+03 \n",
    "p02    2.7922e+04     1.4115e+04     4.1729e+04 \n",
    "\n",
    "Goodness of Fit\n",
    "              Value    \n",
    "SSE         1.7375e+03\n",
    "R-square    0.9949    \n",
    "DFE         90        \n",
    "Adj R-sq    0.9946    \n",
    "RMSE        4.3938    "
   ]
  },
  {
   "cell_type": "code",
   "execution_count": null,
   "id": "7e89ad6e-fa2e-4a34-9aa1-648d532c5927",
   "metadata": {},
   "outputs": [],
   "source": [
    "Fit Name: lower_FULL_MACH2\n",
    "\n",
    "Polynomial Surface Fit (poly33)\n",
    "f(x,y) = 68.2243 -668.2799*x -1.1397e+03*y + 1.3993e+03*x^2 + 1.3374e+04*x*y + 8.1616e+04 *y^2 -349.7704*x^3 -3.3397e+04*x^2*y + 6.5648e+05*x*y^2 -7.5125e+06*y^3\n",
    "\n",
    "Coefficients and 95% Confidence Bounds\n",
    "          Value          Lower          Upper    \n",
    "p00    68.2243        25.3050        111.1435   \n",
    "p10    -668.2799      -845.8930      -490.6669  \n",
    "p01    -1.1397e+03    -9.6864e+03    7.4069e+03 \n",
    "p20    1.3993e+03     1.1963e+03     1.6023e+03 \n",
    "p11    1.3374e+04     -3.7717e+03    3.0521e+04 \n",
    "p02    8.1616e+04     -5.7309e+05    7.3632e+05 \n",
    "p30    -349.7704      -415.8129      -283.7279  \n",
    "p21    -3.3397e+04    -4.4977e+04    -2.1817e+04\n",
    "p12    6.5648e+05     2.1290e+05     1.1001e+06 \n",
    "p03    -7.5125e+06    -2.3535e+07    8.5100e+06 \n",
    "\n",
    "Goodness of Fit\n",
    "              Value    \n",
    "SSE         1.3098e+05\n",
    "R-square    0.9929    \n",
    "DFE         110       \n",
    "Adj R-sq    0.9924    \n",
    "RMSE        34.5064   "
   ]
  },
  {
   "cell_type": "code",
   "execution_count": null,
   "id": "c2a0555c-4c5d-4d5b-a288-50fcacb5f0d4",
   "metadata": {},
   "outputs": [],
   "source": [
    "Fit Name: higher\n",
    "\n",
    "Polynomial Surface Fit (poly22)\n",
    "f(x,y) = 23.6982 -123.4344*x - 2.5545e+03*y + 402.1042*x^2 + 9.1165e+03*x*y + 4.4646e+04*y^2\n",
    "\n",
    "Coefficients and 95% Confidence Bounds\n",
    "          Value          Lower          Upper    \n",
    "p00    23.6982        17.5978        29.7986    \n",
    "p10    -123.4344      -148.3817      -98.4871   \n",
    "p01    -2.5545e+03    -3.1437e+03    -1.9653e+03\n",
    "p20    402.1042       375.1164       429.0920   \n",
    "p11    9.1165e+03     8.4797e+03     9.7532e+03 \n",
    "p02    4.4646e+04     2.4889e+04     6.4403e+04 \n",
    "\n",
    "Goodness of Fit\n",
    "              Value    \n",
    "SSE         3.5575e+03\n",
    "R-square    0.9948    \n",
    "DFE         90        \n",
    "Adj R-sq    0.9945    \n",
    "RMSE        6.2871    "
   ]
  },
  {
   "cell_type": "code",
   "execution_count": 28,
   "id": "bdb9b13b-7987-4517-a269-83c61e62be27",
   "metadata": {},
   "outputs": [],
   "source": [
    "def f(x,y):\n",
    "    return 15.9894 - 81.7799 * x -1.7041e+03 *y + 280.5132*x**2 + 6.2419e+03*x*y + 2.7922e+04*y**2"
   ]
  },
  {
   "cell_type": "code",
   "execution_count": 29,
   "id": "3847581d-d39d-4f37-a26f-b9bfb23b2fe9",
   "metadata": {},
   "outputs": [
    {
     "data": {
      "text/plain": [
       "348.17568977779996"
      ]
     },
     "execution_count": 29,
     "metadata": {},
     "output_type": "execute_result"
    }
   ],
   "source": [
    "f(1.0, 0.02543)"
   ]
  },
  {
   "cell_type": "code",
   "execution_count": null,
   "id": "5b3072c1-7dfa-465b-ae83-77c4dbb122c6",
   "metadata": {},
   "outputs": [],
   "source": []
  }
 ],
 "metadata": {
  "kernelspec": {
   "display_name": "Python 3 (ipykernel)",
   "language": "python",
   "name": "python3"
  },
  "language_info": {
   "codemirror_mode": {
    "name": "ipython",
    "version": 3
   },
   "file_extension": ".py",
   "mimetype": "text/x-python",
   "name": "python",
   "nbconvert_exporter": "python",
   "pygments_lexer": "ipython3",
   "version": "3.11.5"
  }
 },
 "nbformat": 4,
 "nbformat_minor": 5
}
