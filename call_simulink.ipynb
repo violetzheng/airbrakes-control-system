{
 "cells": [
  {
   "cell_type": "code",
   "execution_count": 104,
   "id": "aadee869-cdea-4eb3-9658-2f01bd83ec9d",
   "metadata": {},
   "outputs": [],
   "source": [
    "import numpy as np\n",
    "import matlab.engine\n",
    "import math\n",
    "\n",
    "mle = matlab.engine.start_matlab('-desktop')"
   ]
  },
  {
   "cell_type": "code",
   "execution_count": 92,
   "id": "e7adf9a8-12b3-4c8d-bf0c-d9700944615c",
   "metadata": {},
   "outputs": [],
   "source": [
    "#how to call\n",
    "tunableParams = {\n",
    "    'current_height': 4700.0,\n",
    "    'current_vel':260.0,\n",
    "    'current_pitch':0.0,\n",
    "    'extension_length':0.0\n",
    "}\n",
    "results = mle.sim_the_model('Stoptime',STOP_TIME,\"StartTime\",START_TIME,'TunableParameters',tunableParams)\n",
    "\n",
    "mle.quit()"
   ]
  },
  {
   "cell_type": "code",
   "execution_count": 93,
   "id": "d2801dbc-ea17-4d3e-ad5f-d929b192f9ca",
   "metadata": {},
   "outputs": [],
   "source": [
    "def getApogee(result_matlab):\n",
    "    velocity_data = result_matlab['velocity']['Data']\n",
    "    velocity_time = result_matlab['velocity']['Time']\n",
    "    height_data = result_matlab['height']['Data']\n",
    "    height_time = result_matlab['height']['Time']\n",
    "\n",
    "    #find time when apogee hit\n",
    "    apogee_index = -1\n",
    "    for i in range(0,len(velocity_data)):\n",
    "        if (velocity_data[i][0]<=0 and i>1):\n",
    "            apogee_index = i\n",
    "            break\n",
    "            \n",
    "    if (apogee_index != -1):\n",
    "        #find time when apogee hit\n",
    "        apogee_time = velocity_time[apogee_index][0]\n",
    "        return height_data[apogee_index][0]\n",
    "    else:\n",
    "        return -1 #INVALID APOGEE\n",
    "    "
   ]
  },
  {
   "cell_type": "code",
   "execution_count": 94,
   "id": "b3db7616-0e3c-405c-9fd1-ba314ced110b",
   "metadata": {},
   "outputs": [
    {
     "name": "stdout",
     "output_type": "stream",
     "text": [
      "7305.876945744813\n"
     ]
    }
   ],
   "source": [
    "print(getApogee(results))"
   ]
  },
  {
   "cell_type": "code",
   "execution_count": 71,
   "id": "922ae7fe-ec4c-4e36-8144-325c9ae75781",
   "metadata": {},
   "outputs": [],
   "source": [
    "#No airbrake deployment\n",
    "#max height: 7092m\n",
    "#height at burn out: 1500m\n",
    "#vel at burnout: 620m/s\n"
   ]
  },
  {
   "cell_type": "markdown",
   "id": "c43d575e-24bb-473a-9d1f-92b867c2beea",
   "metadata": {},
   "source": [
    "vel: 260 -> 0\n",
    "height: 4700 -> 7092\n",
    "extension: 0.0 -> 0.025 (lookup table in int percentage)\n",
    "\n",
    "(261 x 241) lookup table\n",
    "\n",
    "_ h   4700 4710 4720 ... 7100\n",
    "v\n",
    "260\n",
    "259\n",
    "258\n",
    ".\n",
    ".\n",
    ".\n",
    "0"
   ]
  },
  {
   "cell_type": "markdown",
   "id": "24b4d06f-0628-472e-86ac-0068fdc07cff",
   "metadata": {},
   "source": [
    "mini version: (27 x 25)\n",
    "____  h   4700 4800 4900 ... 7100\n",
    "v\n",
    "260\n",
    "250\n",
    "240\n",
    "230\n",
    ".\n",
    ".\n",
    "0"
   ]
  },
  {
   "cell_type": "code",
   "execution_count": 109,
   "id": "3b6777de-45cb-4603-b5b4-7517ca0bfba6",
   "metadata": {},
   "outputs": [],
   "source": [
    "MAX_EXTENSION = 0.025\n",
    "ERROR_THRESHOLD = 1\n",
    "TARGET_APOG = 6850\n",
    "STOP_TIME = 34\n",
    "START_TIME = 5"
   ]
  },
  {
   "cell_type": "code",
   "execution_count": 110,
   "id": "5782ed9e-92c2-4ce7-b1af-605da3db4763",
   "metadata": {},
   "outputs": [],
   "source": [
    "def get_extension(curr_vel, curr_alt,target):\n",
    "    #find apogee when no extension yet\n",
    "    params = {\n",
    "        'current_height': curr_alt,\n",
    "        'current_vel':curr_vel,\n",
    "        'current_pitch':0.0,\n",
    "        'extension_length':0.0\n",
    "    }\n",
    "    result = mle.sim_the_model('Stoptime',STOP_TIME,\"StartTime\", START_TIME,'TunableParameters',params)\n",
    "    curr_apog = getApogee(result)\n",
    "    print(\"curr apogee w no extension = \" + str(curr_apog))\n",
    "    \n",
    "    #already undershooting\n",
    "    if curr_apog<target:\n",
    "        return 0\n",
    "\n",
    "    params['extension_length']= MAX_EXTENSION\n",
    "    result = mle.sim_the_model('Stoptime',STOP_TIME,\"StartTime\", START_TIME,'TunableParameters',params)\n",
    "    curr_apog = getApogee(result)\n",
    "    print(\"curr apogee w 100% extension = \" + str(curr_apog))\n",
    "\n",
    "    #already undershooting\n",
    "    if curr_apog>target:\n",
    "        return 100\n",
    "\n",
    "    #find best extension w binary search\n",
    "    low = 0\n",
    "    hi = 100\n",
    "    while (low<hi):\n",
    "        mid = (low+hi)/2\n",
    "        params['extension_length']= (mid/100.0)*MAX_EXTENSION\n",
    "        result = mle.sim_the_model('Stoptime',STOP_TIME,\"StartTime\", START_TIME,'TunableParameters',params)\n",
    "        curr_apog = getApogee(result)\n",
    "        if (abs(curr_apog-target)<=ERROR_THRESHOLD):\n",
    "            return math.floor(mid)\n",
    "        elif (curr_apog<target):\n",
    "            #smaller extension\n",
    "            hi = mid\n",
    "        else:\n",
    "            low=mid\n",
    "    return 0"
   ]
  },
  {
   "cell_type": "code",
   "execution_count": 111,
   "id": "c2847d35-37cb-41e2-a444-f012c9ca753f",
   "metadata": {},
   "outputs": [],
   "source": [
    "LUT = [[0]*25 for _ in range(27)]"
   ]
  },
  {
   "cell_type": "code",
   "execution_count": 114,
   "id": "137262c1-3626-49cc-99e8-717b75771d7b",
   "metadata": {},
   "outputs": [
    {
     "name": "stdout",
     "output_type": "stream",
     "text": [
      "curr apogee w no extension = 7305.876945744813\n",
      "curr apogee w 100% extension = 7304.200383381849\n",
      "100\n",
      "curr apogee w no extension = 7305.876945744813\n",
      "curr apogee w 100% extension = 7304.200383381849\n",
      "100\n",
      "curr apogee w no extension = 7305.876945744813\n",
      "curr apogee w 100% extension = 7304.200383381849\n",
      "100\n",
      "curr apogee w no extension = 7305.876945744813\n",
      "curr apogee w 100% extension = 7304.200383381849\n",
      "100\n",
      "curr apogee w no extension = 7305.876945744813\n",
      "curr apogee w 100% extension = 7304.200383381849\n",
      "100\n",
      "curr apogee w no extension = 7305.876945744813\n",
      "curr apogee w 100% extension = 7304.200383381849\n",
      "100\n",
      "curr apogee w no extension = 7305.876945744813\n",
      "curr apogee w 100% extension = 7304.200383381849\n",
      "100\n",
      "curr apogee w no extension = 7305.876945744813\n",
      "curr apogee w 100% extension = 7304.200383381849\n",
      "100\n",
      "479 ms ± 84.4 ms per loop (mean ± std. dev. of 7 runs, 1 loop each)\n"
     ]
    }
   ],
   "source": [
    "#try first entry: height = 4700, vel = 260\n",
    "%timeit print(get_extension(260.0,4700.0,TARGET_APOG))"
   ]
  },
  {
   "cell_type": "code",
   "execution_count": 76,
   "id": "4e8af74f-e03e-4918-9e75-97f7010bc3de",
   "metadata": {},
   "outputs": [],
   "source": [
    "mle.quit()"
   ]
  },
  {
   "cell_type": "markdown",
   "id": "1c533fc0-383b-488c-a3bd-12a6bee847c6",
   "metadata": {},
   "source": [
    "479 ms per call min\n",
    "30129 s\n",
    "8.4 hrs to generate whole table :( fun"
   ]
  },
  {
   "cell_type": "code",
   "execution_count": null,
   "id": "394f7303-6c63-4acf-bc46-0e6773f29c5e",
   "metadata": {},
   "outputs": [],
   "source": []
  }
 ],
 "metadata": {
  "kernelspec": {
   "display_name": "Python 3 (ipykernel)",
   "language": "python",
   "name": "python3"
  },
  "language_info": {
   "codemirror_mode": {
    "name": "ipython",
    "version": 3
   },
   "file_extension": ".py",
   "mimetype": "text/x-python",
   "name": "python",
   "nbconvert_exporter": "python",
   "pygments_lexer": "ipython3",
   "version": "3.11.5"
  }
 },
 "nbformat": 4,
 "nbformat_minor": 5
}
